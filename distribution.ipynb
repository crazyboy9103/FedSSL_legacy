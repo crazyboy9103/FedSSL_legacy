{
 "cells": [
  {
   "cell_type": "code",
   "execution_count": 3,
   "id": "ba094828-a8b4-4015-8e1f-64dc0e527a58",
   "metadata": {},
   "outputs": [
    {
     "name": "stdout",
     "output_type": "stream",
     "text": [
      "Files already downloaded and verified\n"
     ]
    }
   ],
   "source": [
    "from torchvision import datasets\n",
    "train_dataset = datasets.CIFAR10(\n",
    "    \"./data/cifar\",\n",
    "    train=True, \n",
    "    download=True\n",
    ")"
   ]
  },
  {
   "cell_type": "code",
   "execution_count": 4,
   "id": "43bdb129-4653-4abe-8680-6f3b15e1f832",
   "metadata": {},
   "outputs": [],
   "source": [
    "import numpy as np\n",
    "from torchvision import datasets, transforms\n",
    "import matplotlib.pyplot as plt\n",
    "\n",
    "def get_train_idxs(dataset, num_users, num_items, alpha):\n",
    "    labels = dataset.targets\n",
    "    \n",
    "    # Collect idxs for each label\n",
    "    idxs_labels = {i: set() for i in range(10)}\n",
    "    for idx, label in enumerate(labels):\n",
    "        idxs_labels[label].add(idx)\n",
    "    \n",
    "\n",
    "    # 10 labels\n",
    "    class_dist = np.random.dirichlet(alpha=[alpha for _ in range(10)], size=num_users)\n",
    "    class_dist = (class_dist * num_items).astype(int)\n",
    "\n",
    "    for _class, class_num in enumerate(class_dist.T.sum(axis=1)):\n",
    "        assert class_num < len(idxs_labels[_class]), \"num_items must be smaller\"\n",
    "    \n",
    "    \n",
    "    dict_users = {i: set() for i in range(num_users)}\n",
    "    dists = {i: [0 for j in range(10)] for i in range(num_users)}\n",
    "    \n",
    "    for client_id, client_dist in enumerate(class_dist):\n",
    "        for _class, num in enumerate(client_dist):\n",
    "            sample_idxs = idxs_labels[_class]\n",
    "            dists[client_id][_class] += num\n",
    "            \n",
    "            sampled_idxs = set(np.random.choice(list(sample_idxs), size=num, replace=False)) \n",
    "            # accumulate\n",
    "            dict_users[client_id].update(sampled_idxs)\n",
    "            \n",
    "            # exclude assigned idxs\n",
    "            idxs_labels[_class] = sample_idxs - sampled_idxs\n",
    "            \n",
    "    for i, data_idxs in dict_users.items():\n",
    "        dict_users[i] = list(data_idxs)\n",
    "    \n",
    "\n",
    "    \n",
    "    # for client_id, dist in dists.items():\n",
    "    #     plt.figure(client_id)\n",
    "    #     plt.title(f\"client {client_id} class distribution\")\n",
    "    #     plt.xlabel(\"class\")\n",
    "    #     plt.ylabel(\"num items\")\n",
    "    #     plt.bar(range(10), dist, label=client_id)\n",
    "    #     plt.savefig(f\"./alpha/client_{client_id}_{sum(dist)}_{alpha}_{num_users}.png\")\n",
    "    #     plt.clf()\n",
    "    \n",
    "    \n",
    "    return dict_users, dists"
   ]
  },
  {
   "cell_type": "code",
   "execution_count": 53,
   "id": "33e6f3e0-497e-4374-8eb0-0d7501a6f1f3",
   "metadata": {},
   "outputs": [],
   "source": [
    "dict_users, dists = get_train_idxs(train_dataset, 5, 100, 10000)"
   ]
  },
  {
   "cell_type": "code",
   "execution_count": 54,
   "id": "537997e5-7a4f-4224-b007-410e273f9078",
   "metadata": {},
   "outputs": [
    {
     "data": {
      "image/png": "[encoded data removed]",
      "text/plain": [
       "<Figure size 864x216 with 5 Axes>"
      ]
     },
     "metadata": {
      "needs_background": "light"
     },
     "output_type": "display_data"
    }
   ],
   "source": [
    "plt.figure(figsize=(12, 3))\n",
    "\n",
    "for client_id, dist in dists.items():\n",
    "    plt.subplot(1, 5, client_id+1)\n",
    "    plt.tight_layout()\n",
    "    plt.xticks(range(10))\n",
    "    plt.bar(range(10), dist, label=client_id)\n",
    "    if client_id == 0:\n",
    "        plt.ylabel(\"Number of samples\")\n",
    "    plt.xlabel(\"Class\")\n",
    "\n",
    "plt.savefig(\"alpha10000.png\")"
   ]
  },
  {
   "cell_type": "code",
   "execution_count": null,
   "id": "2b150dea-f0ad-4a49-8927-73027c25b63f",
   "metadata": {},
   "outputs": [],
   "source": []
  }
 ],
 "metadata": {
  "kernelspec": {
   "display_name": "Python 3 (ipykernel)",
   "language": "python",
   "name": "python3"
  },
  "language_info": {
   "codemirror_mode": {
    "name": "ipython",
    "version": 3
   },
   "file_extension": ".py",
   "mimetype": "text/x-python",
   "name": "python",
   "nbconvert_exporter": "python",
   "pygments_lexer": "ipython3",
   "version": "3.9.7"
  }
 },
 "nbformat": 4,
 "nbformat_minor": 5
}

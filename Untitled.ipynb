{
 "cells": [
  {
   "cell_type": "code",
   "execution_count": 1,
   "id": "c3a0b53c-9848-4086-994c-da1f13198cc7",
   "metadata": {},
   "outputs": [],
   "source": [
    "import numpy as np\n",
    "alpha=0.1\n",
    "num_users=1\n",
    "class_dist = np.random.dirichlet(alpha=[alpha for _ in range(10)], size=num_users)"
   ]
  },
  {
   "cell_type": "code",
   "execution_count": 8,
   "id": "1d0413da-d734-4f18-b7d2-604a30da9f35",
   "metadata": {},
   "outputs": [
    {
     "data": {
      "text/plain": [
       "array([  0,   0, 192, 101,   1,   0,   0,   4,   0,   0])"
      ]
     },
     "execution_count": 8,
     "metadata": {},
     "output_type": "execute_result"
    }
   ],
   "source": [
    "(class_dist * 300).astype(int).T.sum(axis=1)"
   ]
  },
  {
   "cell_type": "code",
   "execution_count": null,
   "id": "1f1b724c-1ae3-4961-889b-7d27a91df3c7",
   "metadata": {},
   "outputs": [],
   "source": []
  }
 ],
 "metadata": {
  "kernelspec": {
   "display_name": "Python 3 (ipykernel)",
   "language": "python",
   "name": "python3"
  },
  "language_info": {
   "codemirror_mode": {
    "name": "ipython",
    "version": 3
   },
   "file_extension": ".py",
   "mimetype": "text/x-python",
   "name": "python",
   "nbconvert_exporter": "python",
   "pygments_lexer": "ipython3",
   "version": "3.9.7"
  }
 },
 "nbformat": 4,
 "nbformat_minor": 5
}
